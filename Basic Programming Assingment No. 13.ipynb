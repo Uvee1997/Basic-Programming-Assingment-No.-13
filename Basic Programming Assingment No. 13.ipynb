{
 "cells": [
  {
   "cell_type": "markdown",
   "id": "87d93306",
   "metadata": {},
   "source": [
    "Q 1)"
   ]
  },
  {
   "cell_type": "code",
   "execution_count": 2,
   "id": "4ec8fd8e",
   "metadata": {},
   "outputs": [
    {
     "name": "stdout",
     "output_type": "stream",
     "text": [
      "provide D:150\n",
      "[22]\n"
     ]
    }
   ],
   "source": [
    "import math\n",
    "numbers = input(\"provide D:\")\n",
    "numbers = numbers.split('.')\n",
    "\n",
    "result_list = []\n",
    "for D in numbers:\n",
    "    Q = round(math.sqrt(2*50*int(D)/30))\n",
    "    result_list.append(Q)\n",
    "    \n",
    "print(result_list)   "
   ]
  },
  {
   "cell_type": "markdown",
   "id": "d77ee91e",
   "metadata": {},
   "source": [
    "Q 2)"
   ]
  },
  {
   "cell_type": "code",
   "execution_count": 9,
   "id": "9bacc941",
   "metadata": {},
   "outputs": [
    {
     "name": "stdout",
     "output_type": "stream",
     "text": [
      "3,5\n",
      "[[0, 0, 0, 0, 0], [0, 1, 2, 3, 4], [0, 2, 4, 6, 8]]\n"
     ]
    }
   ],
   "source": [
    "input_str = input()\n",
    "dimensions=[int(x) for x in input_str.split(',')]\n",
    "rowNum=dimensions[0]\n",
    "colNum=dimensions[1]\n",
    "multilist = [[0 for col in range(colNum)]for row in range(rowNum)]\n",
    "\n",
    "for row in range(rowNum):\n",
    "    for col in range(colNum):\n",
    "        multilist[row][col]=row*col\n",
    "        \n",
    "print(multilist)        "
   ]
  },
  {
   "cell_type": "code",
   "execution_count": null,
   "id": "a7c1baff",
   "metadata": {},
   "outputs": [],
   "source": []
  }
 ],
 "metadata": {
  "kernelspec": {
   "display_name": "Python 3 (ipykernel)",
   "language": "python",
   "name": "python3"
  },
  "language_info": {
   "codemirror_mode": {
    "name": "ipython",
    "version": 3
   },
   "file_extension": ".py",
   "mimetype": "text/x-python",
   "name": "python",
   "nbconvert_exporter": "python",
   "pygments_lexer": "ipython3",
   "version": "3.9.7"
  }
 },
 "nbformat": 4,
 "nbformat_minor": 5
}
